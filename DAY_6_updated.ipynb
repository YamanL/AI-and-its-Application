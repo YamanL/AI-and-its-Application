{
  "nbformat": 4,
  "nbformat_minor": 0,
  "metadata": {
    "colab": {
      "provenance": [],
      "include_colab_link": true
    },
    "kernelspec": {
      "name": "python3",
      "display_name": "Python 3"
    },
    "language_info": {
      "name": "python"
    }
  },
  "cells": [
    {
      "cell_type": "markdown",
      "metadata": {
        "id": "view-in-github",
        "colab_type": "text"
      },
      "source": [
        "<a href=\"https://colab.research.google.com/github/YamanL/AI-and-its-Application/blob/main/DAY_6_updated.ipynb\" target=\"_parent\"><img src=\"https://colab.research.google.com/assets/colab-badge.svg\" alt=\"Open In Colab\"/></a>"
      ]
    },
    {
      "cell_type": "markdown",
      "source": [
        "# Hands-On Practice: Pandas and Matplotlib"
      ],
      "metadata": {
        "id": "jnCRlhXgvMaT"
      }
    },
    {
      "cell_type": "markdown",
      "source": [
        "## Exercise 1: Creating a Pandas Series\n",
        "#### Pandas Series = 1-D array with labels"
      ],
      "metadata": {
        "id": "a6pz18LZvP8h"
      }
    },
    {
      "cell_type": "code",
      "execution_count": null,
      "metadata": {
        "colab": {
          "base_uri": "https://localhost:8080/"
        },
        "id": "VgV8pWl8EvQb",
        "outputId": "84f1545b-b220-421e-bd84-94ae2fd2a4fb"
      },
      "outputs": [
        {
          "output_type": "stream",
          "name": "stdout",
          "text": [
            "Maths        56\n",
            "Science      89\n",
            "English      35\n",
            "History      80\n",
            "Geography    91\n",
            "dtype: int64\n"
          ]
        }
      ],
      "source": [
        "import pandas as pd\n",
        "scores = pd.Series([56,89,35,80,91],index=[\"Maths\",\"Science\",\"English\",\"History\",\"Geography\"])\n",
        "print(scores)\n",
        "\n",
        "# Task 1: Create a Pandas Series with values [10, 20, 30, 40] and indices [”A”,\n",
        "# ”B”, ”C”, ”D”]. Print the Series."
      ]
    },
    {
      "cell_type": "markdown",
      "source": [
        "## Exercise 2: Creating a Pandas DataFrame"
      ],
      "metadata": {
        "id": "5Mj1we23wczC"
      }
    },
    {
      "cell_type": "markdown",
      "source": [
        "#### Dataframe is in a table format"
      ],
      "metadata": {
        "id": "tdukIPgIws7e"
      }
    },
    {
      "cell_type": "code",
      "source": [
        "#Creating a dictionary\n",
        "data = {\n",
        "    \"Name\":[\"Aarav\",\"Bikram\",\"Samir\"],\n",
        "    \"Age\":[25,26,22],\n",
        "    \"City\":[\"Delhi\",\"Kathmandu\",\"Dhaka\"],\n",
        "    \"Country\":[\"India\",\"India\",\"Bangladesh\"]\n",
        "}\n",
        "#Turning the dictionary into a DataFrame\n",
        "df = pd.DataFrame(data)\n",
        "#Printing the DataFrame\n",
        "print(df)\n",
        "\n",
        "#Printing the DataFrame without index\n",
        "print(df.to_string(index=False))\n",
        "\n",
        "# Task 2: Create a DataFrame with columns ”City” ([”Paris”, ”Tokyo”, ”Syd-\n",
        "# ney”]) and ”Population” ([2.1, 37.4, 5.3]). Print the DataFrame."
      ],
      "metadata": {
        "colab": {
          "base_uri": "https://localhost:8080/"
        },
        "id": "SMXiVcvBv93q",
        "outputId": "a8dbf670-c051-4071-d7cc-f2a419312872"
      },
      "execution_count": null,
      "outputs": [
        {
          "output_type": "stream",
          "name": "stdout",
          "text": [
            "     Name  Age       City     Country\n",
            "0   Aarav   25      Delhi       India\n",
            "1  Bikram   26  Kathmandu       India\n",
            "2   Samir   22      Dhaka  Bangladesh\n",
            "  Name  Age      City    Country\n",
            " Aarav   25     Delhi      India\n",
            "Bikram   26 Kathmandu      India\n",
            " Samir   22     Dhaka Bangladesh\n"
          ]
        }
      ]
    },
    {
      "cell_type": "markdown",
      "source": [
        "## Exercise 3: Filtering Data in a DataFrame"
      ],
      "metadata": {
        "id": "HJCxmxNty_F7"
      }
    },
    {
      "cell_type": "code",
      "source": [
        "#Creating a dictionary\n",
        "data = {\n",
        "    \"Name\":[\"Aarav\",\"Bikram\",\"Samir\"],\n",
        "    \"Age\":[25,26,22],\n",
        "    \"City\":[\"Delhi\",\"Kathmandu\",\"Dhaka\"],\n",
        "    \"Country\":[\"India\",\"India\",\"Bangladesh\"]\n",
        "}\n",
        "#Turning the dictionary into a DataFrame\n",
        "df = pd.DataFrame(data)\n",
        "\n",
        "# #Printing the DataFrame\n",
        "# print(df)\n",
        "\n",
        "#Filtering\n",
        "filter = df[df[\"Age\"] < 26]\n",
        "print(filter)\n",
        "\n",
        "\n",
        "#Task 3: Create a DataFrame with columns ”Name” ([”Eve”, ”Frank”, ”Grace”])\n",
        "# and ”Age” ([19, 23, 20]). Filter rows where Age is greater than 20 and print the\n",
        "# result."
      ],
      "metadata": {
        "colab": {
          "base_uri": "https://localhost:8080/"
        },
        "id": "shYpDOZ1xm8e",
        "outputId": "98e39ccc-a8ec-4152-d717-d47f29942a65"
      },
      "execution_count": null,
      "outputs": [
        {
          "output_type": "stream",
          "name": "stdout",
          "text": [
            "    Name  Age   City     Country\n",
            "0  Aarav   25  Delhi       India\n",
            "2  Samir   22  Dhaka  Bangladesh\n"
          ]
        }
      ]
    },
    {
      "cell_type": "markdown",
      "source": [
        "## Exercise 4: Reading and Processing a CSV File"
      ],
      "metadata": {
        "id": "ZPihrNkD0RLC"
      }
    },
    {
      "cell_type": "code",
      "source": [
        "import io\n",
        "\n",
        "#Creating a csv file\n",
        "csv_data = \"\"\"\n",
        "Name,Grade\n",
        "Sushil,1\n",
        "Arpan,2\n",
        "Rohit,3\n",
        "\"\"\"\n",
        "\n",
        "#Reading a CSV file\n",
        "df = pd.read_csv(io.StringIO(csv_data))\n",
        "print(df)\n",
        "\n",
        "#Calculate average grade\n",
        "average_grade = df['Grade'].mean()\n",
        "print(f\"Average Grade: {average_grade}\")\n",
        "\n",
        "# Task4: Simulate a CSV string with columns ”Product” ([”Apple”, ”Banana”,\n",
        "# ”Orange”]) and ”Price” ([1.0, 0.5, 0.75]). Read it into a DataFrame and print the\n",
        "# sum of prices using df[”Price”].sum()."
      ],
      "metadata": {
        "colab": {
          "base_uri": "https://localhost:8080/"
        },
        "id": "2RHQl_G4z1T3",
        "outputId": "35bd1b36-c5d6-4492-dd4e-f18bb46b6f24"
      },
      "execution_count": null,
      "outputs": [
        {
          "output_type": "stream",
          "name": "stdout",
          "text": [
            "     Name  Grade\n",
            "0  Sushil      1\n",
            "1   Arpan      2\n",
            "2   Rohit      3\n",
            "Average Grade: 2.0\n"
          ]
        }
      ]
    },
    {
      "cell_type": "markdown",
      "source": [
        "Task 1: Create a Pandas Series with values [10, 20, 30, 40] and indices [”A”, ”B”, ”C”, ”D”]. Print the Series."
      ],
      "metadata": {
        "id": "alilY3GaZlwn"
      }
    },
    {
      "cell_type": "code",
      "source": [
        "import pandas as pd\n",
        "values = pd.Series([10, 20, 30, 40], index=[\"A\", \"B\", \"C\", \"D\"])\n",
        "print(values)"
      ],
      "metadata": {
        "colab": {
          "base_uri": "https://localhost:8080/"
        },
        "id": "BOqTeqkHcV_S",
        "outputId": "ec05796d-7f2c-4f21-f169-5ccd03b2044a"
      },
      "execution_count": null,
      "outputs": [
        {
          "output_type": "stream",
          "name": "stdout",
          "text": [
            "A    10\n",
            "B    20\n",
            "C    30\n",
            "D    40\n",
            "dtype: int64\n"
          ]
        }
      ]
    },
    {
      "cell_type": "markdown",
      "source": [
        "Task 2: Create a DataFrame with columns ”City” ([”Paris”, ”Tokyo”, ”Sydney”]) and ”Population” ([2.1, 37.4, 5.3]"
      ],
      "metadata": {
        "id": "pOIWcEOfcsEH"
      }
    },
    {
      "cell_type": "code",
      "source": [
        "import pandas as pd\n",
        "data_city_population = {\n",
        "    \"City\": [\"Paris\", \"Tokyo\", \"Sydney\"],\n",
        "    \"Population\": [2.1, 37.4, 5.3]\n",
        "}\n",
        "df_city_population = pd.DataFrame(data_city_population)\n",
        "print(df_city_population)"
      ],
      "metadata": {
        "colab": {
          "base_uri": "https://localhost:8080/"
        },
        "id": "rrMte4Wsc1W6",
        "outputId": "b4f59597-c387-4934-d961-e53b5c746a75"
      },
      "execution_count": null,
      "outputs": [
        {
          "output_type": "stream",
          "name": "stdout",
          "text": [
            "     City  Population\n",
            "0   Paris         2.1\n",
            "1   Tokyo        37.4\n",
            "2  Sydney         5.3\n"
          ]
        }
      ]
    },
    {
      "cell_type": "markdown",
      "source": [
        "Task 3: Create a dataframe with columns \"Name\" ([\"Eve\", \"Frank\" , \"Grace\"]) and \"Age\" ([19, 23, 20]). filter rows where age is greater than 20 and print the result."
      ],
      "metadata": {
        "id": "zv-vEsQCdft5"
      }
    },
    {
      "cell_type": "code",
      "source": [
        "import pandas as pd\n",
        "data_name_age = {\n",
        "    \"Name\": [\"Eve\", \"Frank\", \"Grace\"],\n",
        "    \"Age\": [19, 23, 20]\n",
        "}\n",
        "df_name_age = pd.DataFrame(data_name_age)\n",
        "filtered = df_name_age[df_name_age[\"Age\"] > 20]\n",
        "print(filtered)"
      ],
      "metadata": {
        "colab": {
          "base_uri": "https://localhost:8080/"
        },
        "id": "l7vGOwA8eTsR",
        "outputId": "6b3b924b-a621-47bb-a7c9-de184802df4c"
      },
      "execution_count": null,
      "outputs": [
        {
          "output_type": "stream",
          "name": "stdout",
          "text": [
            "    Name  Age\n",
            "1  Frank   23\n"
          ]
        }
      ]
    },
    {
      "cell_type": "markdown",
      "source": [
        "Task4: Simulate a CSV string with columns ”Product” ([”Apple”, ”Banana”, ”Orange”]) and ”Price” ([1.0, 0.5, 0.75]). Read it into a DataFrame and print the sum of prices using df[”Price”].sum()."
      ],
      "metadata": {
        "id": "l7N9QSgee4-2"
      }
    },
    {
      "cell_type": "code",
      "source": [
        "import pandas as pd\n",
        "import io\n",
        "csv_products_prices = \"\"\"\n",
        "Product,Price\n",
        "Apple,1.0\n",
        "Banana,0.5\n",
        "Orange,0.75\n",
        "\"\"\"\n",
        "\n",
        "df_products_prices = pd.read_csv(io.StringIO(csv_products_prices))\n",
        "print(df_products_prices)\n",
        "\n",
        "sum_of_prices = df_products_prices[\"Price\"].sum()\n",
        "print(f\"Sum of Prices: {sum_of_prices}\")"
      ],
      "metadata": {
        "colab": {
          "base_uri": "https://localhost:8080/"
        },
        "id": "3WBi2FJ3e8a1",
        "outputId": "e1d7a5cf-b040-481e-d093-70a5ecd30901"
      },
      "execution_count": 2,
      "outputs": [
        {
          "output_type": "stream",
          "name": "stdout",
          "text": [
            "  Product  Price\n",
            "0   Apple   1.00\n",
            "1  Banana   0.50\n",
            "2  Orange   0.75\n",
            "Sum of Prices: 2.25\n"
          ]
        }
      ]
    }
  ]
}