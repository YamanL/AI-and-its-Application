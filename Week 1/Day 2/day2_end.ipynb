{
  "nbformat": 4,
  "nbformat_minor": 0,
  "metadata": {
    "colab": {
      "provenance": []
    },
    "kernelspec": {
      "name": "python3",
      "display_name": "Python 3"
    },
    "language_info": {
      "name": "python"
    }
  },
  "cells": [
    {
      "cell_type": "markdown",
      "source": [
        "## **Day-1 Coding**"
      ],
      "metadata": {
        "id": "i_42TwT7rxXO"
      }
    },
    {
      "cell_type": "code",
      "execution_count": null,
      "metadata": {
        "colab": {
          "base_uri": "https://localhost:8080/"
        },
        "id": "keM29lgAqjon",
        "outputId": "d9468745-5503-4fed-c4aa-2fef33091f81"
      },
      "outputs": [
        {
          "output_type": "stream",
          "name": "stdout",
          "text": [
            "This is my first day coding python\n"
          ]
        }
      ],
      "source": [
        "print(\"This is my first day coding python\")"
      ]
    },
    {
      "cell_type": "markdown",
      "source": [
        "# LOOPS IN PYTHON"
      ],
      "metadata": {
        "id": "NmDlSF78tvtn"
      }
    },
    {
      "cell_type": "code",
      "source": [
        "# Top 10 natural number ko cube\n",
        "for i in range(1,11):\n",
        "  print (i * i * i)"
      ],
      "metadata": {
        "colab": {
          "base_uri": "https://localhost:8080/"
        },
        "id": "Mytacu63txqE",
        "outputId": "28966569-f4ee-45d3-f400-35c301d09ce5"
      },
      "execution_count": null,
      "outputs": [
        {
          "output_type": "stream",
          "name": "stdout",
          "text": [
            "1\n",
            "8\n",
            "27\n",
            "64\n",
            "125\n",
            "216\n",
            "343\n",
            "512\n",
            "729\n",
            "1000\n"
          ]
        }
      ]
    },
    {
      "cell_type": "markdown",
      "source": [
        "# FUNCTIONS IN PYTHON"
      ],
      "metadata": {
        "id": "x-nPMxy4uqas"
      }
    },
    {
      "cell_type": "code",
      "source": [
        "# Declaring function to calculate square of a number\n",
        "def calculate_square(length):\n",
        " return length * length\n",
        "\n",
        "#Calling a function to print square of first square\n",
        "print(\"The area of first square is:\",calculate_square(6))\n",
        "print(\"The area of second square is:\",calculate_square(16))"
      ],
      "metadata": {
        "colab": {
          "base_uri": "https://localhost:8080/"
        },
        "id": "1jpxc5tiuWZk",
        "outputId": "23887065-3d5f-417d-d60b-7d4e8efb8e96"
      },
      "execution_count": null,
      "outputs": [
        {
          "output_type": "stream",
          "name": "stdout",
          "text": [
            "The area of first square is: 36\n",
            "The area of second square is: 256\n"
          ]
        }
      ]
    },
    {
      "cell_type": "markdown",
      "source": [
        "# Homework: Find area of circle"
      ],
      "metadata": {
        "id": "l1LDRL8hvroF"
      }
    },
    {
      "cell_type": "markdown",
      "source": [
        "# LISTS IN PYTHON"
      ],
      "metadata": {
        "id": "T6UFWzaqwpSl"
      }
    },
    {
      "cell_type": "code",
      "source": [
        "# Write comments here\n",
        "fruits = [\"apples\", \"banana\", \"mango\", \"litchi\", \"watermelon\"]\n",
        "print(fruits)\n",
        "\n",
        "# #Accessing elements from the list\n",
        "# print(fruits[0]) #first index\n",
        "# print(fruits[-1])\n",
        "# print(fruits[4])\n",
        "\n",
        "# #Adding and removing elements from the list\n",
        "# fruits.append(\"pineapple\")\n",
        "# print(fruits)\n",
        "\n",
        "fruits.remove(\"mango\")\n",
        "print(fruits)"
      ],
      "metadata": {
        "colab": {
          "base_uri": "https://localhost:8080/"
        },
        "id": "tgN4ObUMvNom",
        "outputId": "26e38b94-666f-4ced-820a-f2ee9bd23975"
      },
      "execution_count": null,
      "outputs": [
        {
          "output_type": "stream",
          "name": "stdout",
          "text": [
            "['apples', 'banana', 'mango', 'litchi', 'watermelon']\n",
            "['apples', 'banana', 'mango', 'litchi', 'watermelon', 'pineapple']\n",
            "['apples', 'banana', 'litchi', 'watermelon', 'pineapple']\n"
          ]
        }
      ]
    },
    {
      "cell_type": "markdown",
      "source": [
        "# SETS AND TUPLES(HOME-RESEARCH)"
      ],
      "metadata": {
        "id": "PAKkzZKWylnN"
      }
    },
    {
      "cell_type": "markdown",
      "source": [
        "# DICTIONARY IN PYTHON"
      ],
      "metadata": {
        "id": "2kg0V9IoyqJb"
      }
    },
    {
      "cell_type": "code",
      "source": [
        "student = {\n",
        "    \"name\" : \"Ramu\",\n",
        "    \"class\" : 7,\n",
        "    \"gender\" : \"male\"\n",
        "}\n",
        "\n",
        "# #Accessing values from keys in a dictionary\n",
        "# print(student[\"name\"])\n",
        "# print(student[\"class\"])\n",
        "\n",
        "print(student)\n",
        "\n",
        "#Updating values of a particular key in a dictionary\n",
        "student[\"gender\"] = \"female\"\n",
        "print(student)\n",
        "\n",
        "#Adding a new key-value pair into the existing dictionary\n",
        "student[\"roll_no\"] = 10\n",
        "print(student)\n",
        "\n",
        "#Deleting a key-value pair from the existing dictionary\n",
        "del student[\"class\"]\n",
        "print(student)"
      ],
      "metadata": {
        "id": "hTk992LFw6Y2",
        "colab": {
          "base_uri": "https://localhost:8080/"
        },
        "outputId": "598c244e-28c8-493a-a068-5e7352235d1f"
      },
      "execution_count": null,
      "outputs": [
        {
          "output_type": "stream",
          "name": "stdout",
          "text": [
            "{'name': 'Ramu', 'class': 7, 'gender': 'male'}\n",
            "{'name': 'Ramu', 'class': 7, 'gender': 'female'}\n",
            "{'name': 'Ramu', 'class': 7, 'gender': 'female', 'roll_no': 10}\n",
            "{'name': 'Ramu', 'gender': 'female', 'roll_no': 10}\n"
          ]
        }
      ]
    },
    {
      "cell_type": "markdown",
      "source": [
        "# STRING MANIPULATION IN PYTHON"
      ],
      "metadata": {
        "id": "R2NvTe__FiJb"
      }
    },
    {
      "cell_type": "code",
      "source": [
        "# creating a variable named \"text\" that contains leading and trailing spaces\n",
        "text = \"    Hello Python    \"\n",
        "print(text)\n",
        "\n",
        "#.lower() is used here to convert original text into lowercase\n",
        "print(text.lower())\n",
        "\n",
        "print(text.strip())\n",
        "\n",
        "print(text.replace(\"Hello\", \"Hi\"))\n",
        "\n",
        "#Splitting and Joining\n",
        "#Function Chaining or Method chaining\n",
        "splitted = text.strip().split()\n",
        "print(splitted)\n",
        "\n",
        "joined = \"-\".join(splitted)\n",
        "print(joined)"
      ],
      "metadata": {
        "id": "Jil_96Pc0Chd",
        "colab": {
          "base_uri": "https://localhost:8080/"
        },
        "outputId": "2f94e693-4111-4a1f-8d09-48a815bc10a9"
      },
      "execution_count": 9,
      "outputs": [
        {
          "output_type": "stream",
          "name": "stdout",
          "text": [
            "    Hello Python    \n",
            "    hello python    \n",
            "Hello Python\n",
            "    Hi Python    \n",
            "['Hello', 'Python']\n",
            "Hello-Python\n"
          ]
        }
      ]
    },
    {
      "cell_type": "markdown",
      "source": [
        "# MODULAR PROGRAMMING IN PYTHON"
      ],
      "metadata": {
        "id": "nS_vzEgCK-Kk"
      }
    },
    {
      "cell_type": "code",
      "source": [
        "# Importing Math module\n",
        "import math\n",
        "\n",
        "square_root = math.sqrt(25)\n",
        "print(int(square_root))"
      ],
      "metadata": {
        "colab": {
          "base_uri": "https://localhost:8080/"
        },
        "id": "10s3JtAOIs9v",
        "outputId": "27ae4960-570e-41f0-a6a1-1eebc5316702"
      },
      "execution_count": 11,
      "outputs": [
        {
          "output_type": "stream",
          "name": "stdout",
          "text": [
            "5\n"
          ]
        }
      ]
    },
    {
      "cell_type": "code",
      "source": [
        "floor = math.floor(3.7)\n",
        "print(\"The flooring of 3.7 is:\",floor)\n",
        "\n",
        "ceiling = math.ceil(3.7)\n",
        "print(\"The ceiling of 3.7 is:\",ceiling)"
      ],
      "metadata": {
        "colab": {
          "base_uri": "https://localhost:8080/"
        },
        "id": "YaHfsy7lLhHL",
        "outputId": "eadf270a-debb-4ad2-f92c-f53ceed729a6"
      },
      "execution_count": 15,
      "outputs": [
        {
          "output_type": "stream",
          "name": "stdout",
          "text": [
            "The flooring of 3.7 is: 3\n",
            "The ceiling of 3.7 is: 4\n"
          ]
        }
      ]
    },
    {
      "cell_type": "markdown",
      "source": [
        "# MODULE ALAISING"
      ],
      "metadata": {
        "id": "9-NYnoXcMZck"
      }
    },
    {
      "cell_type": "code",
      "source": [
        "# import matplotlib.pyplot as plt\n",
        "# plt.plot([1,2,3],[4,5,6])"
      ],
      "metadata": {
        "id": "UGl57S2sMG4q"
      },
      "execution_count": 17,
      "outputs": []
    },
    {
      "cell_type": "markdown",
      "source": [
        "# VARIABLE ALAISING"
      ],
      "metadata": {
        "id": "Mutt_QjoNPRm"
      }
    },
    {
      "cell_type": "code",
      "source": [
        "a = [1,2,3,4]\n",
        "print(a)\n",
        "b = a\n",
        "b.append(5)\n",
        "print(b)\n",
        "print(a)\n",
        "\n",
        "#HOMEWORK: EXPERIMENT WITH FUNCTION/METHOD ALIASING"
      ],
      "metadata": {
        "colab": {
          "base_uri": "https://localhost:8080/"
        },
        "id": "EVJocGMYNHHp",
        "outputId": "8d4c8bb4-ddb8-41c2-c775-8538826d5819"
      },
      "execution_count": 20,
      "outputs": [
        {
          "output_type": "stream",
          "name": "stdout",
          "text": [
            "[1, 2, 3, 4]\n",
            "[1, 2, 3, 4, 5]\n",
            "[1, 2, 3, 4, 5]\n"
          ]
        }
      ]
    },
    {
      "cell_type": "markdown",
      "source": [
        "# RANDOMS IN PYTHON"
      ],
      "metadata": {
        "id": "TToqdYCTN7L6"
      }
    },
    {
      "cell_type": "code",
      "source": [
        "import random as rdn\n",
        "print(rdn.randint(1,10))"
      ],
      "metadata": {
        "colab": {
          "base_uri": "https://localhost:8080/"
        },
        "id": "RMewNCR2NdMl",
        "outputId": "1dab19da-d723-4c70-b368-5427fb7e7599"
      },
      "execution_count": 39,
      "outputs": [
        {
          "output_type": "stream",
          "name": "stdout",
          "text": [
            "1\n"
          ]
        }
      ]
    },
    {
      "cell_type": "code",
      "source": [
        "random_float = rdn.random()\n",
        "print(random_float)"
      ],
      "metadata": {
        "colab": {
          "base_uri": "https://localhost:8080/"
        },
        "id": "WyXDqFlSOlNs",
        "outputId": "5af280d1-e4a6-44a7-ce79-c7a61d00ad93"
      },
      "execution_count": 49,
      "outputs": [
        {
          "output_type": "stream",
          "name": "stdout",
          "text": [
            "0.22774256765091982\n"
          ]
        }
      ]
    },
    {
      "cell_type": "code",
      "source": [
        "random_float_in_range = rdn.uniform(10.5,30.5)\n",
        "print(random_float_in_range)\n",
        "\n",
        "#HOMEWORK: EXPLORE MORE MODULES AND FUNCTIONS/METHODS"
      ],
      "metadata": {
        "colab": {
          "base_uri": "https://localhost:8080/"
        },
        "id": "dzpLaPm-PCMX",
        "outputId": "c492b324-221c-4f04-b6a1-fca3bad30019"
      },
      "execution_count": 58,
      "outputs": [
        {
          "output_type": "stream",
          "name": "stdout",
          "text": [
            "29.43202892592552\n"
          ]
        }
      ]
    },
    {
      "cell_type": "markdown",
      "source": [
        "# CREATING CUSTOM MODULES IN PYTHON"
      ],
      "metadata": {
        "id": "6GdI7x8cP4_0"
      }
    },
    {
      "cell_type": "code",
      "source": [
        "#helper.py\n",
        "%%writefile helper.py\n",
        "def add_numbers(a,b):\n",
        " return a+b\n",
        "\n",
        "def sub_num(c,d):\n",
        "  return c-d"
      ],
      "metadata": {
        "colab": {
          "base_uri": "https://localhost:8080/"
        },
        "id": "3f1h8pw5PbEA",
        "outputId": "7dd0bf68-70ac-447b-8e36-be8bc945b400"
      },
      "execution_count": 78,
      "outputs": [
        {
          "output_type": "stream",
          "name": "stdout",
          "text": [
            "Overwriting helper.py\n"
          ]
        }
      ]
    },
    {
      "cell_type": "code",
      "source": [
        "#main.py\n",
        "import helper\n",
        "import importlib\n",
        "importlib.reload(helper)\n",
        "result = helper.add_numbers(3,9)\n",
        "print(\"The addition between these numbers is:\",result)\n",
        "\n",
        "result2 = helper.sub_num(3,9)\n",
        "print(\"The subtraction between these numbers is:\",result2)"
      ],
      "metadata": {
        "colab": {
          "base_uri": "https://localhost:8080/"
        },
        "id": "53I6YCImQR2O",
        "outputId": "46693969-9dfa-4b8d-a3f9-f19b0a5553da"
      },
      "execution_count": 82,
      "outputs": [
        {
          "output_type": "stream",
          "name": "stdout",
          "text": [
            "The addition between these numbers is: 12\n",
            "The subtraction between these numbers is: -6\n"
          ]
        }
      ]
    },
    {
      "cell_type": "code",
      "source": [],
      "metadata": {
        "id": "iQmP-bC3USXp"
      },
      "execution_count": null,
      "outputs": []
    }
  ]
}