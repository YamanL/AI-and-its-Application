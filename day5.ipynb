{
  "nbformat": 4,
  "nbformat_minor": 0,
  "metadata": {
    "colab": {
      "provenance": [],
      "authorship_tag": "ABX9TyPSFoHsOu209CkPgjRByIwY",
      "include_colab_link": true
    },
    "kernelspec": {
      "name": "python3",
      "display_name": "Python 3"
    },
    "language_info": {
      "name": "python"
    }
  },
  "cells": [
    {
      "cell_type": "markdown",
      "metadata": {
        "id": "view-in-github",
        "colab_type": "text"
      },
      "source": [
        "<a href=\"https://colab.research.google.com/github/YamanL/AI-and-its-Application/blob/main/day5.ipynb\" target=\"_parent\"><img src=\"https://colab.research.google.com/assets/colab-badge.svg\" alt=\"Open In Colab\"/></a>"
      ]
    },
    {
      "cell_type": "markdown",
      "source": [
        "#CREATING A NUMPY ARRAY AND ITS ATTRIBUTES"
      ],
      "metadata": {
        "id": "ISZR8agZEK40"
      }
    },
    {
      "cell_type": "code",
      "execution_count": null,
      "metadata": {
        "colab": {
          "base_uri": "https://localhost:8080/"
        },
        "id": "mggqFQnDD31q",
        "outputId": "f43e4508-33ee-4f68-daad-79e321fdc96a"
      },
      "outputs": [
        {
          "output_type": "stream",
          "name": "stdout",
          "text": [
            "[1 3 5 7 9]\n",
            "42\n",
            "[[1 2 3]\n",
            " [4 5 6]]\n",
            "[[[ 1  2  3]\n",
            "  [ 4  5  6]]\n",
            "\n",
            " [[ 7  8  9]\n",
            "  [10 11 12]]]\n"
          ]
        }
      ],
      "source": [
        "#importing numpy library\n",
        "import numpy as np\n",
        "\n",
        "#creating a lis named \"my_list\"\n",
        "my_list = [1,3,5,7,9]\n",
        "\n",
        "#creating a 1-D numpy array from \"my_list\"\n",
        "my_arr = np.array(my_list)\n",
        "#printing the array\n",
        "print(my_arr)\n",
        "\n",
        "#Creating a 0-D array\n",
        "arr_0d = np.array(42)\n",
        "#printing the array\n",
        "print(arr_0d)\n",
        "\n",
        "#Creating a 2-D array\n",
        "arr_2d = np.array([[1,2,3],[4,5,6]])\n",
        "#printing the array\n",
        "print(arr_2d)\n",
        "\n",
        "#Creating a 3-D array\n",
        "arr_3d = np.array([[[1,2,3],[4,5,6]],[[7,8,9],[10,11,12]]])\n",
        "#printing the array\n",
        "print(arr_3d)"
      ]
    },
    {
      "cell_type": "markdown",
      "source": [
        "##Creating Array and its attributes"
      ],
      "metadata": {
        "id": "WKXnN3HhF6cZ"
      }
    },
    {
      "cell_type": "code",
      "source": [
        "arr = np.array([[1,2,3,4],[6,7,8,9]])\n",
        "print(arr) #printing the array\n",
        "print(arr.ndim) #Dimensions.....\n",
        "print(arr.shape) #printing the shape of an array\n",
        "print(arr.size) #Size....\n",
        "print(arr.dtype) #Type...."
      ],
      "metadata": {
        "colab": {
          "base_uri": "https://localhost:8080/"
        },
        "id": "Xgs1Q5JGFuN6",
        "outputId": "5840e553-4cc6-4961-e9ec-10225dd24247"
      },
      "execution_count": null,
      "outputs": [
        {
          "output_type": "stream",
          "name": "stdout",
          "text": [
            "[[1 2 3 4]\n",
            " [6 7 8 9]]\n",
            "2\n",
            "(2, 4)\n",
            "8\n",
            "int64\n"
          ]
        }
      ]
    },
    {
      "cell_type": "markdown",
      "source": [
        "#ACCESSING AND MANIPULATING ARRAY ELEMENTS"
      ],
      "metadata": {
        "id": "SS5uQ_ueG7cE"
      }
    },
    {
      "cell_type": "code",
      "source": [
        "#Accessing 1-D array elements\n",
        "my_arr = np.array([2,5,7,9])\n",
        "print(may_arr[2])"
      ],
      "metadata": {
        "colab": {
          "base_uri": "https://localhost:8080/"
        },
        "id": "yRFlLH0NHNP3",
        "outputId": "f7a24a15-14cd-44a7-d73c-96e9e788af79"
      },
      "execution_count": null,
      "outputs": [
        {
          "output_type": "stream",
          "name": "stdout",
          "text": [
            "7\n"
          ]
        }
      ]
    },
    {
      "cell_type": "code",
      "source": [
        "#Accessing 2-D array elements\n",
        "my_arr = np.array([[2,5,7,9],[1,3,5,7]])\n",
        "print(my_arr[1,2])"
      ],
      "metadata": {
        "colab": {
          "base_uri": "https://localhost:8080/"
        },
        "id": "cEApVKuZHgBC",
        "outputId": "cbe90259-8d78-43a4-c09f-400b147cc79b"
      },
      "execution_count": null,
      "outputs": [
        {
          "output_type": "stream",
          "name": "stdout",
          "text": [
            "5\n"
          ]
        }
      ]
    },
    {
      "cell_type": "code",
      "source": [
        "#Accessing 3-D array elements\n",
        "my_arr = np.array([[[2,5,7,9],[1,3,5,7],[2,5,7,9], [1,3,5,7]]])\n",
        "print(my_arr[0,1,2])"
      ],
      "metadata": {
        "colab": {
          "base_uri": "https://localhost:8080/"
        },
        "id": "Rt-UyNzPH7h8",
        "outputId": "c25798be-6d62-448e-d212-4add34091d2c"
      },
      "execution_count": null,
      "outputs": [
        {
          "output_type": "stream",
          "name": "stdout",
          "text": [
            "5\n"
          ]
        }
      ]
    },
    {
      "cell_type": "markdown",
      "source": [
        "#NEGATIVE INDEXING"
      ],
      "metadata": {
        "id": "6tRrM82pIiQ7"
      }
    },
    {
      "cell_type": "code",
      "source": [
        "#Accessing 2-D array elements with negative indexing\n",
        "my_arr = np.array([[2,5,7,9],[1,3,5,7]])\n",
        "print(my_arr[1,-2])\n"
      ],
      "metadata": {
        "colab": {
          "base_uri": "https://localhost:8080/"
        },
        "id": "5SIj4u18IoSs",
        "outputId": "fea88664-010c-4b73-e6e2-8869bffcd91c"
      },
      "execution_count": null,
      "outputs": [
        {
          "output_type": "stream",
          "name": "stdout",
          "text": [
            "5\n"
          ]
        }
      ]
    },
    {
      "cell_type": "markdown",
      "source": [
        "a"
      ],
      "metadata": {
        "id": "5RHSPMAdJu9Q"
      }
    },
    {
      "cell_type": "markdown",
      "source": [
        "#SLICING ARRAYS"
      ],
      "metadata": {
        "id": "bZxDkymTI7nt"
      }
    },
    {
      "cell_type": "code",
      "source": [
        "arr = np.array([1,3,5,7,9,11,13,15,17,19,21])\n",
        "print(arr[1:5])  #Slicing\n",
        "print(arr[1:5:2]) #Slicing with step\n",
        "print(arr[0:-1]) #Negative"
      ],
      "metadata": {
        "colab": {
          "base_uri": "https://localhost:8080/"
        },
        "id": "LfQveRhEI-mn",
        "outputId": "cad5382e-2735-4841-adc8-9663fb31b25c"
      },
      "execution_count": null,
      "outputs": [
        {
          "output_type": "stream",
          "name": "stdout",
          "text": [
            "[3 5 7 9]\n",
            "[3 7]\n",
            "[ 1  3  5  7  9 11 13 15 17 19]\n"
          ]
        }
      ]
    },
    {
      "cell_type": "code",
      "source": [
        "# SLicing a 2-D numpy array\n",
        "arr = np.array([[1,3,5,7],[2,4,6,8]])\n",
        "print (arr[1,1:-1])"
      ],
      "metadata": {
        "id": "sTN7XA4aJ0LU"
      },
      "execution_count": null,
      "outputs": []
    },
    {
      "cell_type": "markdown",
      "source": [
        "CLASSWORK:"
      ],
      "metadata": {
        "id": "Cqrh8dWpKYeu"
      }
    },
    {
      "cell_type": "markdown",
      "source": [
        "Create a NumPy array from the list [7,14,21,28]. Print the array."
      ],
      "metadata": {
        "id": "Jjb3KJ8fOqfC"
      }
    },
    {
      "cell_type": "code",
      "source": [
        "#NumPy array from the list\n",
        "arr = np.array([7,14,21,28])\n",
        "print(arr)"
      ],
      "metadata": {
        "colab": {
          "base_uri": "https://localhost:8080/"
        },
        "id": "vTSxGasgKix8",
        "outputId": "878b377e-c4d2-4afc-e79a-6bd72423c17b"
      },
      "execution_count": null,
      "outputs": [
        {
          "output_type": "stream",
          "name": "stdout",
          "text": [
            "[ 7 14 21 28]\n"
          ]
        }
      ]
    },
    {
      "cell_type": "markdown",
      "source": [
        "Create a 2D NumPy array [[5,10,15], [20,25,30]]. Print its shape and muber of dimensions using array.ndim."
      ],
      "metadata": {
        "id": "djNJv-f4OPRm"
      }
    },
    {
      "cell_type": "code",
      "source": [
        "#2-D NumPy array\n",
        "arr = np.array([[5,10,15],[20,25,30]])\n",
        "print(arr)\n",
        "print(arr.shape)\n",
        "print(arr.ndim)"
      ],
      "metadata": {
        "colab": {
          "base_uri": "https://localhost:8080/"
        },
        "id": "AEPWh2_XKyIc",
        "outputId": "1fe51771-9441-4693-e9d1-64943a36b98b"
      },
      "execution_count": null,
      "outputs": [
        {
          "output_type": "stream",
          "name": "stdout",
          "text": [
            "[[ 5 10 15]\n",
            " [20 25 30]]\n",
            "(2, 3)\n",
            "2\n"
          ]
        }
      ]
    },
    {
      "cell_type": "markdown",
      "source": [
        "Use np.zeros to create a 2D array of shape (2,3). Then, use np.arange to create an array from 0 to 12 with a step of 3. Print both arrays."
      ],
      "metadata": {
        "id": "BDplWKMcLj8u"
      }
    },
    {
      "cell_type": "code",
      "source": [
        "a = np.zeros((2, 3))\n",
        "b = np.arange(0,13,3)\n",
        "\n",
        "print(a)\n",
        "print(b)\n"
      ],
      "metadata": {
        "colab": {
          "base_uri": "https://localhost:8080/"
        },
        "id": "tSYqL0OXLzUi",
        "outputId": "b7a03b94-d4f6-4923-c294-de17c606d975"
      },
      "execution_count": null,
      "outputs": [
        {
          "output_type": "stream",
          "name": "stdout",
          "text": [
            "[[0. 0. 0.]\n",
            " [0. 0. 0.]]\n",
            "[ 0  3  6  9 12]\n"
          ]
        }
      ]
    },
    {
      "cell_type": "markdown",
      "source": [
        "Create a Numpy array [2,4,6,8]. Multiply all elements by 3 and print the result"
      ],
      "metadata": {
        "id": "xi8qmjQdNEek"
      }
    },
    {
      "cell_type": "code",
      "source": [
        "arr = np.array([2,4,6,8])\n",
        "print(arr*3)"
      ],
      "metadata": {
        "colab": {
          "base_uri": "https://localhost:8080/"
        },
        "id": "xWVRv4O6NQ0V",
        "outputId": "8c0cb5e1-d84e-4695-d222-c0bf269ac5e5"
      },
      "execution_count": null,
      "outputs": [
        {
          "output_type": "stream",
          "name": "stdout",
          "text": [
            "[ 6 12 18 24]\n"
          ]
        }
      ]
    },
    {
      "cell_type": "markdown",
      "source": [
        "Create a NumPy array [1,3,5,7,9,11]. Print the third element and a slice from index 1 to 3 (inclusive)."
      ],
      "metadata": {
        "id": "0IPpGNC-KNn7"
      }
    },
    {
      "cell_type": "code",
      "source": [
        "arr = np.array([1,3,5,7,9,11])\n",
        "print(arr[2])\n",
        "print(arr[1:4])"
      ],
      "metadata": {
        "colab": {
          "base_uri": "https://localhost:8080/"
        },
        "id": "j3d3ypSHN8bv",
        "outputId": "91d5dfa7-e988-4cee-df78-9f627b0ba2d7"
      },
      "execution_count": null,
      "outputs": [
        {
          "output_type": "stream",
          "name": "stdout",
          "text": [
            "5\n",
            "[3 5 7]\n"
          ]
        }
      ]
    },
    {
      "cell_type": "markdown",
      "source": [
        "HOMEWORK: EXPERIMENT WITH SLICING ON A 3-D ARRAY"
      ],
      "metadata": {
        "id": "rDVOq53ONkFd"
      }
    },
    {
      "cell_type": "code",
      "source": [
        "# prompt: SLICING ON A 3-D ARRAY\n",
        "\n",
        "import numpy as np\n",
        "# SLicing a 3-D numpy array\n",
        "arr = np.array([[[1, 2, 3], [4, 5, 6]], [[7, 8, 9], [10, 11, 12]]])\n",
        "print(arr[0, 1, :])  # Slice the second row of the first \"plate\"\n",
        "print(arr[:, :, 1])  # Slice the second column across all rows and \"plates\"\n",
        "print(arr[1, :, 0])  # Slice the first element of each row in the second \"plate\"\n",
        "print(arr[0, 0:2, 0:2]) # Slice a sub-array from the first \"plate\""
      ],
      "metadata": {
        "id": "ZBP_PpoCGhr0"
      },
      "execution_count": null,
      "outputs": []
    },
    {
      "cell_type": "markdown",
      "source": [
        "CLASSWORK\n",
        "1. Create a 2D NumPy array of shape (3,3) with random integers between 1 and 10 (inclusive) using np.random.randint. Then, replace all values greater than 5 with 0 and print the modified array.\n"
      ],
      "metadata": {
        "id": "l0cwor8Bdd_g"
      }
    },
    {
      "cell_type": "code",
      "source": [
        "arr = np.random.randint(1,11,(3,3))\n",
        "print(arr)\n",
        "arr[arr>5] = 0\n",
        "print(arr)"
      ],
      "metadata": {
        "colab": {
          "base_uri": "https://localhost:8080/"
        },
        "id": "qqdfEf-Vdzx4",
        "outputId": "513012bc-5159-4ed8-dc74-9d0dd5ae12e1"
      },
      "execution_count": null,
      "outputs": [
        {
          "output_type": "stream",
          "name": "stdout",
          "text": [
            "[[ 3  2  9]\n",
            " [10  5  2]\n",
            " [ 8  4  2]]\n",
            "[[3 2 0]\n",
            " [0 5 2]\n",
            " [0 4 2]]\n"
          ]
        }
      ]
    },
    {
      "cell_type": "markdown",
      "source": [
        "2.Create two 1D NumPy arrays: [2, 4, 6, 8] and [1, 3, 5, 7]. Compute the element-wise sum and the dot product of the two arrays. Print both results."
      ],
      "metadata": {
        "id": "vLaWZo4XzR7O"
      }
    },
    {
      "cell_type": "code",
      "source": [
        "import numpy as np\n",
        "\n",
        "arr1 = np.array([2, 4, 6, 8])\n",
        "arr2 = np.array([1, 3, 5, 7])\n",
        "\n",
        "# Element-wise sum\n",
        "element_wise_sum = arr1 + arr2\n",
        "print(\"Element-wise sum:\", element_wise_sum)\n",
        "\n",
        "# Dot product\n",
        "dot_product = np.dot(arr1, arr2)\n",
        "print(\"Dot product:\", dot_product)\n"
      ],
      "metadata": {
        "colab": {
          "base_uri": "https://localhost:8080/"
        },
        "id": "euIVHGgpz1Z8",
        "outputId": "f21b818b-2f91-42de-b3c0-ce0ba8d0b730"
      },
      "execution_count": null,
      "outputs": [
        {
          "output_type": "stream",
          "name": "stdout",
          "text": [
            "Element-wise sum: [ 3  7 11 15]\n",
            "Dot product: 100\n"
          ]
        }
      ]
    },
    {
      "cell_type": "markdown",
      "source": [
        "3. Create a 2D NumPy array of shape (4, 3) filled with ones using np.ones. Then, add a 1D array [10, 20, 30] to each row of the 2D array using broadcasting. Print the resulting array."
      ],
      "metadata": {
        "id": "G6ZCfjVm0hmW"
      }
    },
    {
      "cell_type": "code",
      "source": [
        "import numpy as np\n",
        "array_2d = np.ones((4, 3))\n",
        "array_1d = np.array([10, 20, 30])\n",
        "\n",
        "result_array = array_2d + array_1d\n",
        "result_array"
      ],
      "metadata": {
        "colab": {
          "base_uri": "https://localhost:8080/"
        },
        "id": "c4hIWygJ0mdJ",
        "outputId": "75bf0309-33cd-48df-e91e-c3e9d1275ada"
      },
      "execution_count": null,
      "outputs": [
        {
          "output_type": "execute_result",
          "data": {
            "text/plain": [
              "array([[11., 21., 31.],\n",
              "       [11., 21., 31.],\n",
              "       [11., 21., 31.],\n",
              "       [11., 21., 31.]])"
            ]
          },
          "metadata": {},
          "execution_count": 2
        }
      ]
    },
    {
      "cell_type": "markdown",
      "source": [
        "4. Create a 2D NumPy array [[1, 2, 3], [4, 5, 6], [7, 8, 9]]. Extract the second column and compute its mean using np. mean. Then, reshape the original array into a 1D array and print both results."
      ],
      "metadata": {
        "id": "UmPs4v8e1n-W"
      }
    },
    {
      "cell_type": "code",
      "source": [
        "import numpy as np\n",
        "arr = np.array([[1, 2, 3], [4, 5, 6], [7, 8, 9]])\n",
        "\n",
        "# Extract the second column (index 1)\n",
        "second_column = arr[:, 1]\n",
        "\n",
        "# Compute the mean of the second column\n",
        "mean_second_column = np.mean(second_column)\n",
        "print(\"Mean of the second column:\", mean_second_column)\n",
        "\n",
        "# Reshape the original array into a 1D array\n",
        "reshaped_array = arr.reshape(-1)\n",
        "print(\"Reshaped 1D array:\", reshaped_array)"
      ],
      "metadata": {
        "colab": {
          "base_uri": "https://localhost:8080/"
        },
        "id": "TUdc4HAg2Qal",
        "outputId": "d90bd335-b598-4aaf-87a6-e4ec4b76f2d1"
      },
      "execution_count": 4,
      "outputs": [
        {
          "output_type": "stream",
          "name": "stdout",
          "text": [
            "Mean of the second column: 5.0\n",
            "Reshaped 1D array: [1 2 3 4 5 6 7 8 9]\n"
          ]
        }
      ]
    },
    {
      "cell_type": "markdown",
      "source": [
        "5. Create a 1D NumPy array [10, 20, 30, 40, 50, 60]. Use a boolean mask to select elements greater than 30, then square those elements. Print the original array and the modified array."
      ],
      "metadata": {
        "id": "xbs2Ez0K1wLs"
      }
    },
    {
      "cell_type": "code",
      "source": [
        "import numpy as np\n",
        "# Create the original 1D array\n",
        "original_array = np.array([10, 20, 30, 40, 50, 60])\n",
        "print(\"Original array:\", original_array)\n",
        "\n",
        "# Create a boolean mask for elements greater than 30\n",
        "mask = original_array > 30\n",
        "\n",
        "# Select elements greater than 30 using the boolean mask and square them\n",
        "modified_array = original_array[mask] ** 2\n",
        "print(\"Modified array (elements > 30 squared):\", modified_array)"
      ],
      "metadata": {
        "colab": {
          "base_uri": "https://localhost:8080/"
        },
        "id": "0K2cSxYI2eO8",
        "outputId": "72fc7da7-d8ab-41d8-ed7f-a47c7d5fd4e2"
      },
      "execution_count": 5,
      "outputs": [
        {
          "output_type": "stream",
          "name": "stdout",
          "text": [
            "Original array: [10 20 30 40 50 60]\n",
            "Modified array (elements > 30 squared): [1600 2500 3600]\n"
          ]
        }
      ]
    }
  ]
}