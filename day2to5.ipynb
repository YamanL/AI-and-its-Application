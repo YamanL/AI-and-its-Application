{
  "nbformat": 4,
  "nbformat_minor": 0,
  "metadata": {
    "colab": {
      "provenance": [],
      "toc_visible": true,
      "authorship_tag": "ABX9TyMApC2r+Of7P6r9kCUKiHGQ",
      "include_colab_link": true
    },
    "kernelspec": {
      "name": "python3",
      "display_name": "Python 3"
    },
    "language_info": {
      "name": "python"
    }
  },
  "cells": [
    {
      "cell_type": "markdown",
      "metadata": {
        "id": "view-in-github",
        "colab_type": "text"
      },
      "source": [
        "<a href=\"https://colab.research.google.com/github/YamanL/AI-and-its-Application/blob/main/day2to5.ipynb\" target=\"_parent\"><img src=\"https://colab.research.google.com/assets/colab-badge.svg\" alt=\"Open In Colab\"/></a>"
      ]
    },
    {
      "cell_type": "code",
      "execution_count": null,
      "metadata": {
        "id": "fBEXowIHvXzy",
        "colab": {
          "base_uri": "https://localhost:8080/"
        },
        "outputId": "3d87b6ad-3526-47d2-bad1-0e9b4b5a6ec7"
      },
      "outputs": [
        {
          "output_type": "stream",
          "name": "stdout",
          "text": [
            "this is my second class on AI\n"
          ]
        }
      ],
      "source": [
        "print(\"this is my second class on AI\")"
      ]
    },
    {
      "cell_type": "markdown",
      "source": [
        "##Functions in Python"
      ],
      "metadata": {
        "id": "4zB5HtwUxO7O"
      }
    },
    {
      "cell_type": "code",
      "source": [
        "def area_of_square(num):\n",
        "  return num*num\n",
        "print(\"The area of first Square is:\",area_of_square(6))\n",
        "#Area of second Square\n",
        "print(\"The are of second square is:\",area_of_square(16))"
      ],
      "metadata": {
        "colab": {
          "base_uri": "https://localhost:8080/"
        },
        "id": "JQvxBvIAxW9J",
        "outputId": "dfe6e3d8-3ea3-442d-a01b-8858b3e7ac0e"
      },
      "execution_count": null,
      "outputs": [
        {
          "output_type": "stream",
          "name": "stdout",
          "text": [
            "The area of first Square is: 36\n",
            "The are of second square is: 256\n"
          ]
        }
      ]
    },
    {
      "cell_type": "markdown",
      "source": [
        "#Homework: Area of Circle"
      ],
      "metadata": {
        "id": "73Z4DZ0X16aG"
      }
    },
    {
      "cell_type": "code",
      "source": [
        "def area_of_circle(radius):\n",
        "    return 3.14 * radius * radius\n",
        "\n",
        "# Area of first circle\n",
        "print(\"The area of first circle is:\", area_of_circle(5))\n",
        "\n",
        "# Area of second circle\n",
        "print(\"The area of second circle is:\", area_of_circle(10))"
      ],
      "metadata": {
        "colab": {
          "base_uri": "https://localhost:8080/"
        },
        "id": "kb0ZuVCR2DRT",
        "outputId": "46e6a3a7-2c4e-4b5e-870a-cf35d8e2e839"
      },
      "execution_count": null,
      "outputs": [
        {
          "output_type": "stream",
          "name": "stdout",
          "text": [
            "The area of first circle is: 78.5\n",
            "The area of second circle is: 314.0\n"
          ]
        }
      ]
    },
    {
      "cell_type": "code",
      "source": [
        "# Creating a list of fruits\n",
        "fruits = [\"apple\", \"banana\", \"kiwi\", \"orange\", \"strawberry\"]\n",
        "\n",
        "# Accessing elements\n",
        "# print(fruits[0])  #accessing first elements in the list\n",
        "# print(fruits[4])  #accessing 5th elements in the list\n",
        "# print(fruits[-1])  #accessing last elements in the list\n",
        "# print(fruits[-2])  #accessing first elements in the list\n",
        "\n",
        "#Adding elements from list\n",
        "fruits.append(\"mango\")\n",
        "print (fruits)\n",
        "\n",
        "#removing elements from list\n",
        "fruits.remove(\"orange\")\n",
        "print (fruits)\n"
      ],
      "metadata": {
        "colab": {
          "base_uri": "https://localhost:8080/"
        },
        "id": "EvGmXDwiz1bM",
        "outputId": "b1ed580d-1f0f-4130-93f4-bc2ea391d607"
      },
      "execution_count": null,
      "outputs": [
        {
          "output_type": "stream",
          "name": "stdout",
          "text": [
            "['apple', 'banana', 'kiwi', 'orange', 'strawberry', 'mango']\n",
            "['apple', 'banana', 'kiwi', 'strawberry', 'mango']\n"
          ]
        }
      ]
    },
    {
      "cell_type": "markdown",
      "source": [
        "Tuples in Python & Sets homework\n"
      ],
      "metadata": {
        "id": "Uq97zAmN2cHK"
      }
    },
    {
      "cell_type": "markdown",
      "source": [
        "Dictionaries in Python"
      ],
      "metadata": {
        "id": "GGmF2-KL75dE"
      }
    },
    {
      "cell_type": "code",
      "source": [
        "# creating a dictionary\n",
        "student = {\n",
        "    \"name\" : \"Milan Bajgain\",\n",
        "    \"age\" : \"25\",\n",
        "    \"course\" : \"Computer Science\"\n",
        "}\n",
        "\n",
        "#Accessing values of a particular key in a disctionary\n",
        "print(student[\"age\"])\n",
        "\n",
        "#Updating vales of a particular key in a dictionary\n",
        "student[\"age\"] = 29\n",
        "print(student[\"age\"])\n",
        "\n",
        "#Adding new key-value pair on the dictionary\n",
        "student[\"address\"] = \"Kathmandu\"\n",
        "print(student)\n",
        "\n",
        "#Removing a key-value pair from the dictionary\n",
        "del student[\"course\"]\n",
        "print (student)"
      ],
      "metadata": {
        "colab": {
          "base_uri": "https://localhost:8080/"
        },
        "id": "6OtZndOQ2iW1",
        "outputId": "6ac8b31a-2a38-4885-c38b-7da050caafbf"
      },
      "execution_count": null,
      "outputs": [
        {
          "output_type": "stream",
          "name": "stdout",
          "text": [
            "25\n",
            "29\n",
            "{'name': 'Milan Bajgain', 'age': 29, 'course': 'Computer Science', 'address': 'Kathmandu'}\n",
            "{'name': 'Milan Bajgain', 'age': 29, 'address': 'Kathmandu'}\n"
          ]
        }
      ]
    },
    {
      "cell_type": "markdown",
      "source": [
        "temperature conversion"
      ],
      "metadata": {
        "id": "ODiqVJQT-oPA"
      }
    },
    {
      "cell_type": "code",
      "source": [
        "f= float (input(\"Enter the degree in fahrenheit \"))\n",
        "\n",
        "conversion = (f - 32) * 5/9\n",
        "\n",
        "print (\"The temparature in celsius is\",conversion)\n",
        "\n",
        "\n",
        "c= float (input(\"Enter the degree in celsius \"))\n",
        "\n",
        "conversion = (c*9/5) + 32\n",
        "\n",
        "print (\"The temparature in farenheit is\",conversion)"
      ],
      "metadata": {
        "colab": {
          "base_uri": "https://localhost:8080/"
        },
        "id": "0JRuwA2d-tTx",
        "outputId": "ceb9cde5-0a14-4cf7-f97c-24fdaf7c90a5"
      },
      "execution_count": null,
      "outputs": [
        {
          "output_type": "stream",
          "name": "stdout",
          "text": [
            "Enter the degree in fahrenheit 100.2\n",
            "The temparature in celsius is 37.888888888888886\n",
            "Enter the degree in celsius 39\n",
            "The temparature in farenheit is 102.2\n"
          ]
        }
      ]
    },
    {
      "cell_type": "markdown",
      "source": [
        "Homework Day 2\n"
      ],
      "metadata": {
        "id": "Gv2b-PyUmMnX"
      }
    },
    {
      "cell_type": "code",
      "source": [
        "# Calculating AGE with hardcoding present year\n",
        "\n",
        "birth_year = int (input(\"Enter your birth year: \"))\n",
        "\n",
        "age = (2025 - birth_year)\n",
        "\n",
        "print (\"As per your year of birth, you are\", age, \"years old.\" )\n",
        "\n",
        "# Calculating AGE by imorting datetime\n",
        "\n",
        "import datetime\n",
        "\n",
        "current_year = datetime.datetime.now().year\n",
        "\n",
        "birth_year = int (input(\"Enter your birth year: \"))\n",
        "\n",
        "age = (current_year - birth_year)\n",
        "\n",
        "print (f\"As per your year of birth, you are {age} years old.\" )\n"
      ],
      "metadata": {
        "colab": {
          "base_uri": "https://localhost:8080/"
        },
        "id": "Jjz5FC5LmPu3",
        "outputId": "1b30a3c8-d17c-407c-84a5-1e46503fa4dc"
      },
      "execution_count": null,
      "outputs": [
        {
          "output_type": "stream",
          "name": "stdout",
          "text": [
            "Enter your birth year: 1999\n",
            "As per your year of birth, you are 26 years old.\n",
            "Enter your birth year: 2000\n",
            "As per your year of birth, you are 25 years old.\n"
          ]
        }
      ]
    },
    {
      "cell_type": "code",
      "source": [
        "#SIMPLE Interest Calculator\n",
        "P = int (input(\"Enter Principal Amount in RS.: \"))\n",
        "R = int (input(\"Enter Rate of Interest in % : \"))\n",
        "T = int (input(\"Enter the Time in Years : \"))\n",
        "\n",
        "Simple_interest = (P*T*R)/100\n",
        "\n",
        "print(f\"The Simple Interest on the basis of your info is: {Simple_interest}\")"
      ],
      "metadata": {
        "colab": {
          "base_uri": "https://localhost:8080/"
        },
        "id": "LL-dC4kBnsgE",
        "outputId": "5bfe27a4-05d6-4851-ed2c-f016293345ca"
      },
      "execution_count": null,
      "outputs": [
        {
          "output_type": "stream",
          "name": "stdout",
          "text": [
            "Enter Principal Amount in RS.: 20000\n",
            "Enter Rate of Interest in % : 5\n",
            "Enter the Time in Years : 12\n",
            "The Simple Interest on the basis of your info is: 12000.0\n"
          ]
        }
      ]
    },
    {
      "cell_type": "code",
      "source": [
        "#BMI Index\n",
        "wt = float (input(\"Enter your weight in kg: \"))\n",
        "ht = float (input(\"Enter your height in meters: \"))\n",
        "\n",
        "bmi = wt/(ht*ht)\n",
        "\n",
        "if bmi<18.5:\n",
        "  print(f\"your BMI Index is {bmi} and you are 'UNDERWEIGHT'\")\n",
        "elif 18.5<= bmi>=25:\n",
        "    print(f\"your BMI Index is {bmi} and you are 'NORMAL'\")\n",
        "else:\n",
        "     print(f\"your BMI Index is {bmi} and you are 'Overweight'\")"
      ],
      "metadata": {
        "colab": {
          "base_uri": "https://localhost:8080/"
        },
        "id": "q2byH8Rrq_tc",
        "outputId": "601f0e64-24b8-4649-e622-dbc0e0fae9e2"
      },
      "execution_count": null,
      "outputs": [
        {
          "output_type": "stream",
          "name": "stdout",
          "text": [
            "Enter your weight in kg: 65\n",
            "Enter your height in meters: 0.45\n",
            "your BMI Index is 320.98765432098764 and you are 'NORMAL'\n"
          ]
        }
      ]
    },
    {
      "cell_type": "code",
      "source": [
        "#Currency Calculator\n",
        "rs= float (input(\"Enter your local currency in NPR :\"))\n",
        "usd = rs/132\n",
        "print(f\"your Conversion of NPR into USD is ${usd} \")"
      ],
      "metadata": {
        "colab": {
          "base_uri": "https://localhost:8080/"
        },
        "id": "xIwP3OCSuSsH",
        "outputId": "f956764e-cfd8-4464-cc41-fa905a4db50c"
      },
      "execution_count": null,
      "outputs": [
        {
          "output_type": "stream",
          "name": "stdout",
          "text": [
            "Enter your local currency in NPR :144\n",
            "your Conversion of NPR into USD is $1.0909090909090908 \n"
          ]
        }
      ]
    },
    {
      "cell_type": "code",
      "source": [
        "import random\n",
        "print(random.randint(1,10))"
      ],
      "metadata": {
        "colab": {
          "base_uri": "https://localhost:8080/"
        },
        "id": "YJyulxQD0e3W",
        "outputId": "36920a7a-f442-49d2-e09a-2faed3ecda4f"
      },
      "execution_count": null,
      "outputs": [
        {
          "output_type": "stream",
          "name": "stdout",
          "text": [
            "1\n"
          ]
        }
      ]
    },
    {
      "cell_type": "code",
      "source": [
        "from math import pi, sqrt\n",
        "print(pi, sqrt(16))"
      ],
      "metadata": {
        "colab": {
          "base_uri": "https://localhost:8080/"
        },
        "id": "YUWSBT-G1I84",
        "outputId": "b7b61deb-e0af-458b-fb78-a1f6862f7ec5"
      },
      "execution_count": null,
      "outputs": [
        {
          "output_type": "stream",
          "name": "stdout",
          "text": [
            "3.141592653589793 4.0\n"
          ]
        }
      ]
    },
    {
      "cell_type": "markdown",
      "source": [
        "String Manipulation in Python\n"
      ],
      "metadata": {
        "id": "MCSlfWxOIUZh"
      }
    },
    {
      "cell_type": "code",
      "source": [
        "#Creating a variable named \"text\" that contains leading and trailing spaces\n",
        "\n",
        "text = \"   Hello Python  \"\n",
        "print(text)\n",
        "#.lower is used here to convert the original text into lowercase\n",
        "print(text.lower())\n",
        "#.strip is used here to remove unnecessary spaces\n",
        "print(text.strip())\n",
        "#.replace to replace the text to any other text\n",
        "print(text.replace(\"Python\",\"Java\"))\n",
        "print(text.replace(\"Hello\",\"Hi\"))\n",
        "#Splitting and Joining\n",
        "#Function Chaining or Method Chaining\n",
        "splitted = text.strip().split()\n",
        "print(splitted)\n",
        "\n",
        "joined = \"-\".join(splitted)\n",
        "print(joined)"
      ],
      "metadata": {
        "colab": {
          "base_uri": "https://localhost:8080/"
        },
        "id": "AVXyZ7hHIYv_",
        "outputId": "dcf8af18-be18-4f63-8db7-cae7026c3284"
      },
      "execution_count": null,
      "outputs": [
        {
          "output_type": "stream",
          "name": "stdout",
          "text": [
            "   Hello Python  \n",
            "   hello python  \n",
            "Hello Python\n",
            "   Hello Java  \n",
            "   Hi Python  \n",
            "['Hello', 'Python']\n",
            "Hello-Python\n"
          ]
        }
      ]
    },
    {
      "cell_type": "markdown",
      "source": [
        "MODULAR PROGRAMMING IN PYTHON"
      ],
      "metadata": {
        "id": "lyOckpybLoS4"
      }
    },
    {
      "cell_type": "code",
      "source": [
        "#Importing math module\n",
        "import math\n",
        "\n",
        "square_root = math.sqrt(25)\n",
        "print (int(square_root))"
      ],
      "metadata": {
        "colab": {
          "base_uri": "https://localhost:8080/"
        },
        "id": "OyNZIBOKLrlY",
        "outputId": "12bd9a3f-bae5-467d-abb3-0c3d13421f93"
      },
      "execution_count": null,
      "outputs": [
        {
          "output_type": "stream",
          "name": "stdout",
          "text": [
            "5\n"
          ]
        }
      ]
    },
    {
      "cell_type": "code",
      "source": [
        "floor = math.floor(3.7)\n",
        "print(\"the flooring of 3.7 is:\", floor)\n",
        "ceiling = math.ceil(3.7)\n",
        "print(\"the ceiling of 3.7 is:\", ceiling)"
      ],
      "metadata": {
        "colab": {
          "base_uri": "https://localhost:8080/"
        },
        "id": "SCBJKx4UMCXR",
        "outputId": "57182a0c-b108-469c-d406-64034c291e84"
      },
      "execution_count": null,
      "outputs": [
        {
          "output_type": "stream",
          "name": "stdout",
          "text": [
            "the flooring of 3.7 is: 3\n",
            "the ceiling of 3.7 is: 4\n"
          ]
        }
      ]
    },
    {
      "cell_type": "markdown",
      "source": [
        "MODULE ALAISING"
      ],
      "metadata": {
        "id": "V-D2V_s1Mij1"
      }
    },
    {
      "cell_type": "code",
      "source": [
        "import matplotlib.pyplot as plt\n",
        "plt.plot([1,2,3],[4,5,6])"
      ],
      "metadata": {
        "colab": {
          "base_uri": "https://localhost:8080/",
          "height": 447
        },
        "id": "Xo84XU7pMt83",
        "outputId": "58e186aa-1e7b-43b1-eb4c-367aede86ff4"
      },
      "execution_count": null,
      "outputs": [
        {
          "output_type": "execute_result",
          "data": {
            "text/plain": [
              "[<matplotlib.lines.Line2D at 0x7d33fecee9d0>]"
            ]
          },
          "metadata": {},
          "execution_count": 17
        },
        {
          "output_type": "display_data",
          "data": {
            "text/plain": [
              "<Figure size 640x480 with 1 Axes>"
            ],
            "image/png": "[encoded data removed]"
          },
          "metadata": {}
        }
      ]
    },
    {
      "cell_type": "markdown",
      "source": [
        "VARIABLE ALAISING"
      ],
      "metadata": {
        "id": "8iBaTVQvNRkJ"
      }
    },
    {
      "cell_type": "code",
      "source": [
        "a = [1,2,3,4]\n",
        "print(a)\n",
        "b = a\n",
        "b.append(5)\n",
        "print(b)\n",
        "print(a)\n",
        "\n",
        "#HOMEWORK: EXPERIMENT WITH FUNCTION/METHOD ALAISING"
      ],
      "metadata": {
        "colab": {
          "base_uri": "https://localhost:8080/"
        },
        "id": "clAsdLbmNT32",
        "outputId": "a470733d-527b-4120-e021-d290a22c98e8"
      },
      "execution_count": null,
      "outputs": [
        {
          "output_type": "stream",
          "name": "stdout",
          "text": [
            "[1, 2, 3, 4]\n",
            "[1, 2, 3, 4, 5]\n",
            "[1, 2, 3, 4, 5]\n"
          ]
        }
      ]
    },
    {
      "cell_type": "markdown",
      "source": [
        "FUNCTION ALAISING HOMEWORK"
      ],
      "metadata": {
        "id": "aQS0o_8cN2L1"
      }
    },
    {
      "cell_type": "code",
      "source": [
        "#HOMEWORK: EXPERIMENT WITH FUNCTION/METHOD ALAISING\n",
        "\n",
        "## FUNCTION ALAISING\n",
        "\n",
        "# Define a simple function\n",
        "def greeting(name):\n",
        "  print(f\"Hello, {name}!\")\n",
        "\n",
        "# Create an alias for the greeting function\n",
        "say_hello = greeting\n",
        "\n",
        "# Call the function using its original name\n",
        "greeting(\"Alice\")\n",
        "\n",
        "# Call the function using its alias\n",
        "say_hello(\"Bob\")"
      ],
      "metadata": {
        "colab": {
          "base_uri": "https://localhost:8080/"
        },
        "id": "EXEceRC4OGiC",
        "outputId": "5a94d7aa-f105-4e70-f5b7-3f53638f6225"
      },
      "execution_count": null,
      "outputs": [
        {
          "output_type": "stream",
          "name": "stdout",
          "text": [
            "Hello, Alice!\n",
            "Hello, Bob!\n"
          ]
        }
      ]
    },
    {
      "cell_type": "markdown",
      "source": [
        "RANDOMS IN PYTHON"
      ],
      "metadata": {
        "id": "9gHTgRjWOK6n"
      }
    },
    {
      "cell_type": "code",
      "source": [
        "#random numbers in integers within range\n",
        "import random as rdn\n",
        "print(rdn.randint(1,10))"
      ],
      "metadata": {
        "colab": {
          "base_uri": "https://localhost:8080/"
        },
        "id": "8znTdRjCOuHv",
        "outputId": "9ed6c6d0-7619-48dd-a0a2-181e5fbbb585"
      },
      "execution_count": null,
      "outputs": [
        {
          "output_type": "stream",
          "name": "stdout",
          "text": [
            "7\n"
          ]
        }
      ]
    },
    {
      "cell_type": "code",
      "source": [
        "#random numbers in float without range\n",
        "\n",
        "random_float = rdn.random()\n",
        "print(random_float)\n"
      ],
      "metadata": {
        "colab": {
          "base_uri": "https://localhost:8080/"
        },
        "id": "CS8Oua6tPFZq",
        "outputId": "5ff44c54-7970-4161-c9dd-59b5f2b3e3a0"
      },
      "execution_count": null,
      "outputs": [
        {
          "output_type": "stream",
          "name": "stdout",
          "text": [
            "0.2233726583264517\n"
          ]
        }
      ]
    },
    {
      "cell_type": "code",
      "source": [
        "#random numbers in float within range\n",
        "\n",
        "random_float_in_range = rdn.uniform(10.5,30.5)\n",
        "print(random_float_in_range)\n",
        "\n",
        "#HOMEWORK: EXPLORE MORE MODULES AND FUNCTIONS/METHODS"
      ],
      "metadata": {
        "colab": {
          "base_uri": "https://localhost:8080/"
        },
        "id": "dS9AaiHHPOyI",
        "outputId": "fbdf8356-863b-4013-ccbd-7eb16cdb544b"
      },
      "execution_count": null,
      "outputs": [
        {
          "output_type": "stream",
          "name": "stdout",
          "text": [
            "27.412985811702775\n"
          ]
        }
      ]
    },
    {
      "cell_type": "markdown",
      "source": [
        "#HOMEWORK: EXPLORE MORE MODULES AND FUNCTIONS/METHODS"
      ],
      "metadata": {
        "id": "rtlXDj1PQEii"
      }
    },
    {
      "cell_type": "code",
      "source": [
        "#EXPLORE MORE MODULES AND FUNCTIONS/METHODS"
      ],
      "metadata": {
        "id": "pJJ9rA8MQHmU"
      },
      "execution_count": null,
      "outputs": []
    },
    {
      "cell_type": "markdown",
      "source": [
        "CREATING CUSTOM MODULES IN PYTHON\n"
      ],
      "metadata": {
        "id": "ClZmwiMYQNP0"
      }
    },
    {
      "cell_type": "code",
      "source": [
        "#helperr.py\n",
        "#yesma chai yo %%writefile kina lekheko bhanda VS code ma file manage bhayera baseko le pardaina\n",
        "#tara yaha chai yo lekhepachi yo yaha python file jasto act garcha\n",
        "%%writefile helpers.py\n",
        "def add_numbers(a,b):\n",
        "  return a+b\n",
        "def sub_numbers(a,b):\n",
        "  return a-b\n",
        "def div_numbers(a,b):\n",
        "  return a/b\n",
        "def mul_numbers(a,b):\n",
        "  return a*b"
      ],
      "metadata": {
        "colab": {
          "base_uri": "https://localhost:8080/"
        },
        "id": "IFdnh10dQUAu",
        "outputId": "a3c90a5c-3755-401d-c39a-fda1a7a09b95"
      },
      "execution_count": null,
      "outputs": [
        {
          "output_type": "stream",
          "name": "stdout",
          "text": [
            "Writing helpers.py\n"
          ]
        }
      ]
    },
    {
      "cell_type": "code",
      "source": [
        "#main.py\n",
        "import helpers\n",
        "result = helpers.add_numbers(6,7)\n",
        "print(\"The addition of these numbers is:\", result)"
      ],
      "metadata": {
        "colab": {
          "base_uri": "https://localhost:8080/"
        },
        "id": "L2-4vM98Q9Aa",
        "outputId": "fcd05c11-405b-437c-dd54-f207e84c61ea"
      },
      "execution_count": null,
      "outputs": [
        {
          "output_type": "stream",
          "name": "stdout",
          "text": [
            "The addition of these numbers is: 13\n"
          ]
        }
      ]
    },
    {
      "cell_type": "code",
      "source": [
        "import helpers\n",
        "result = helpers.sub_numbers (10,5)\n",
        "print(\"The subtraction of these numbers is:\", result)"
      ],
      "metadata": {
        "colab": {
          "base_uri": "https://localhost:8080/"
        },
        "id": "Y4QyeufuS_ns",
        "outputId": "53c521ae-a535-408a-ea43-0e8e0fd4cd37"
      },
      "execution_count": null,
      "outputs": [
        {
          "output_type": "stream",
          "name": "stdout",
          "text": [
            "The subtraction of these numbers is: 5\n"
          ]
        }
      ]
    },
    {
      "cell_type": "code",
      "source": [
        "import helpers\n",
        "result = helpers.div_numbers(14,7)\n",
        "print(\"The divison of these numbers is:\", result)"
      ],
      "metadata": {
        "colab": {
          "base_uri": "https://localhost:8080/"
        },
        "id": "OEY67rPjT5LV",
        "outputId": "4300c546-a66e-4760-f6ee-e780e4a54a02"
      },
      "execution_count": null,
      "outputs": [
        {
          "output_type": "stream",
          "name": "stdout",
          "text": [
            "The divison of these numbers is: 2.0\n"
          ]
        }
      ]
    },
    {
      "cell_type": "code",
      "source": [
        "import random as rnd\n",
        "list = [10, 20, 30, 40]\n",
        "rnd.shuffle(list)\n",
        "print(list)\n"
      ],
      "metadata": {
        "colab": {
          "base_uri": "https://localhost:8080/"
        },
        "id": "WJ1qDSE4UQY8",
        "outputId": "48efd61b-3941-48d0-cf52-9f06672eed8f"
      },
      "execution_count": null,
      "outputs": [
        {
          "output_type": "stream",
          "name": "stdout",
          "text": [
            "[40, 20, 10, 30]\n"
          ]
        }
      ]
    },
    {
      "cell_type": "code",
      "source": [
        "import helpers\n",
        "result = helpers.mul_numbers(14,7)\n",
        "print(\"The multiplication of these numbers is:\", result)"
      ],
      "metadata": {
        "colab": {
          "base_uri": "https://localhost:8080/"
        },
        "id": "J9oOVCEGVrgr",
        "outputId": "bacc734b-fa57-43be-dec7-9e65def1877d"
      },
      "execution_count": null,
      "outputs": [
        {
          "output_type": "stream",
          "name": "stdout",
          "text": [
            "The multiplication of these numbers is: 98\n"
          ]
        }
      ]
    },
    {
      "cell_type": "markdown",
      "source": [
        "Homework 4 tasks"
      ],
      "metadata": {
        "id": "MgAVoSKivp1m"
      }
    },
    {
      "cell_type": "code",
      "source": [
        "#Calculating Sine 30\n",
        "import math\n",
        "result = math.sin(math.radians(30))\n",
        "print(\"The value of Sin 30 is:\", result)"
      ],
      "metadata": {
        "colab": {
          "base_uri": "https://localhost:8080/"
        },
        "id": "_DU9LaPFvuNt",
        "outputId": "66a67a36-5a95-4731-813d-9ac764898831"
      },
      "execution_count": null,
      "outputs": [
        {
          "output_type": "stream",
          "name": "stdout",
          "text": [
            "The value of Sin 30 is: 0.49999999999999994\n"
          ]
        }
      ]
    },
    {
      "cell_type": "code",
      "source": [
        "#Random Number Generation between [50-75]\n",
        "import random as rnd\n",
        "print(rnd.randint(50,75))"
      ],
      "metadata": {
        "colab": {
          "base_uri": "https://localhost:8080/"
        },
        "id": "ucLGEc4ZxP7Q",
        "outputId": "93b7006f-fb5b-4b01-de41-8710c33fb392"
      },
      "execution_count": null,
      "outputs": [
        {
          "output_type": "stream",
          "name": "stdout",
          "text": [
            "72\n"
          ]
        }
      ]
    },
    {
      "cell_type": "code",
      "source": [
        "#calc.py\n",
        "%%writefile calc.py\n",
        "def square_of_number(a):\n",
        "  return a*a"
      ],
      "metadata": {
        "colab": {
          "base_uri": "https://localhost:8080/"
        },
        "id": "yqsRs7CAyWE1",
        "outputId": "fe0018fe-6833-478f-eec6-07bb0b6a860e"
      },
      "execution_count": null,
      "outputs": [
        {
          "output_type": "stream",
          "name": "stdout",
          "text": [
            "Writing calc.py\n"
          ]
        }
      ]
    },
    {
      "cell_type": "code",
      "source": [
        "\n",
        "#Square of Number\n",
        "import calc\n",
        "result = calc.square_of_number(8)\n",
        "print(\"The square of the given number is:\", result)"
      ],
      "metadata": {
        "colab": {
          "base_uri": "https://localhost:8080/"
        },
        "id": "YLa8T3F9yyPb",
        "outputId": "b05a774c-5912-4e82-d558-f4149efc2159"
      },
      "execution_count": null,
      "outputs": [
        {
          "output_type": "stream",
          "name": "stdout",
          "text": [
            "The square of the given number is: 64\n"
          ]
        }
      ]
    },
    {
      "cell_type": "code",
      "source": [
        "#Random generation of the items from the list\n",
        "import random as rnd\n",
        "print(rnd.choice([\"Mango\", \"Apple\", \"Grape\" ]))"
      ],
      "metadata": {
        "colab": {
          "base_uri": "https://localhost:8080/"
        },
        "id": "XXOH_YMR03_3",
        "outputId": "4a73432b-595e-4fb2-c389-9730f3abdc07"
      },
      "execution_count": null,
      "outputs": [
        {
          "output_type": "stream",
          "name": "stdout",
          "text": [
            "Mango\n"
          ]
        }
      ]
    },
    {
      "cell_type": "code",
      "source": [
        "try:\n",
        "\n",
        " x = int(input(\"Enter number: \"))\n",
        "\n",
        " print(10 / x)\n",
        "\n",
        "except ZeroDivisionError:\n",
        "\n",
        " print(\"Cannot divide by zero!\")\n",
        "\n",
        "except ValueError:\n",
        "\n",
        " print(\"Invalid input!\")"
      ],
      "metadata": {
        "colab": {
          "base_uri": "https://localhost:8080/"
        },
        "id": "DdC98rLU_0Oo",
        "outputId": "9878358a-0166-46e5-d184-c8e14d546627"
      },
      "execution_count": null,
      "outputs": [
        {
          "output_type": "stream",
          "name": "stdout",
          "text": [
            "Enter number: 2.1\n",
            "Invalid input!\n"
          ]
        }
      ]
    },
    {
      "cell_type": "markdown",
      "source": [
        "FILE HANDLING AND EXCEPTIONS"
      ],
      "metadata": {
        "id": "VBH2F5LxA5s5"
      }
    },
    {
      "cell_type": "markdown",
      "source": [
        "OPENING AND READING A FILE"
      ],
      "metadata": {
        "id": "m-V2Bsp4BEpM"
      }
    },
    {
      "cell_type": "code",
      "source": [
        "f = open(\"/content/sample_data/test.txt\",\"r\")\n",
        "print(f.read(1))\n",
        "f.close()"
      ],
      "metadata": {
        "colab": {
          "base_uri": "https://localhost:8080/"
        },
        "id": "L2Tl2DpEBRFu",
        "outputId": "cfcecbd7-4762-49d1-94e3-58959f397495"
      },
      "execution_count": null,
      "outputs": [
        {
          "output_type": "stream",
          "name": "stdout",
          "text": [
            "I\n"
          ]
        }
      ]
    },
    {
      "cell_type": "code",
      "source": [
        "f = open(\"/content/sample_data/test.txt\",\"r\")\n",
        "print(f.readlines())\n",
        "f.close()"
      ],
      "metadata": {
        "colab": {
          "base_uri": "https://localhost:8080/"
        },
        "id": "j6JaUxZSClRv",
        "outputId": "7221a8fe-5b3e-4da3-8c15-665c9e7e4032"
      },
      "execution_count": null,
      "outputs": [
        {
          "output_type": "stream",
          "name": "stdout",
          "text": [
            "['I am teaching.\\n']\n"
          ]
        }
      ]
    },
    {
      "cell_type": "markdown",
      "source": [
        "WITH OPERATION"
      ],
      "metadata": {
        "id": "kazFhaw8DCgO"
      }
    },
    {
      "cell_type": "code",
      "source": [
        "with open(\"/content/sample_data/test.txt\",\"r\") as f:\n",
        "  print(f.read())\n"
      ],
      "metadata": {
        "colab": {
          "base_uri": "https://localhost:8080/"
        },
        "id": "gPVTLY7WDL3l",
        "outputId": "eae479f8-0ec1-4feb-abfc-f122be89708a"
      },
      "execution_count": null,
      "outputs": [
        {
          "output_type": "stream",
          "name": "stdout",
          "text": [
            "I am teaching.\n",
            "I was teaching.\n",
            "I will be teaching.\n"
          ]
        }
      ]
    },
    {
      "cell_type": "markdown",
      "source": [
        "WRITING TO A FILE\n"
      ],
      "metadata": {
        "id": "lIg3I96dDxjq"
      }
    },
    {
      "cell_type": "code",
      "source": [
        "f = open(\"/content/sample_data/test.txt\",\"w\")\n",
        "f.write(\"I am writing to this file\")\n",
        "f.close()"
      ],
      "metadata": {
        "id": "oGKcw_gTD2Xb"
      },
      "execution_count": null,
      "outputs": []
    },
    {
      "cell_type": "code",
      "source": [
        "#USING WITH OPERATION\n",
        "with open(\"/content/sample_data/write.txt\",\"w\") as f:\n",
        "  f.write(\"I am writing \")"
      ],
      "metadata": {
        "id": "l3gPimv2EF4W"
      },
      "execution_count": null,
      "outputs": []
    },
    {
      "cell_type": "markdown",
      "source": [
        "APPENDING TO A FILE"
      ],
      "metadata": {
        "id": "OFpsiXCIE93o"
      }
    },
    {
      "cell_type": "code",
      "source": [
        "f = open(\"/content/sample_data/write.txt\", \"a\")\n",
        "f.write(\"\\n I am appending to this file\")\n",
        "f.close()"
      ],
      "metadata": {
        "id": "27siQ3lxFAxW"
      },
      "execution_count": null,
      "outputs": []
    },
    {
      "cell_type": "markdown",
      "source": [
        "CLASSWORK DAY 4\n"
      ],
      "metadata": {
        "id": "zOYuwDLUF2OR"
      }
    },
    {
      "cell_type": "code",
      "source": [
        "f=open(\"/content/sample_data/data.txt\",\"r\")\n",
        "print(f.read())"
      ],
      "metadata": {
        "colab": {
          "base_uri": "https://localhost:8080/"
        },
        "id": "Wyv7piCMF8rQ",
        "outputId": "2ba1457e-f403-4faa-847e-c4d003c00fae"
      },
      "execution_count": null,
      "outputs": [
        {
          "output_type": "stream",
          "name": "stdout",
          "text": [
            "hey there!\n",
            "what's up?\n",
            "how are you doing?\n"
          ]
        }
      ]
    },
    {
      "cell_type": "code",
      "source": [
        "f=open(\"/content/sample_data/user.txt\", \"w\")\n",
        "name = input(\"Enter your name:\")\n",
        "f.write(name)\n",
        "f.close()"
      ],
      "metadata": {
        "colab": {
          "base_uri": "https://localhost:8080/"
        },
        "id": "ChFRb9idPZuu",
        "outputId": "09c82f9d-be67-428c-cc9d-ee4be303eb26"
      },
      "execution_count": null,
      "outputs": [
        {
          "name": "stdout",
          "output_type": "stream",
          "text": [
            "Enter your name:Yaman\n"
          ]
        }
      ]
    },
    {
      "cell_type": "code",
      "source": [
        "#WORDS COUNT\n",
        "f = open (\"/content/sample_data/story.txt\",\"r\")\n",
        "content=(f.read())\n",
        "words = content.split()\n",
        "print(\"The number of words in the file are:\", len(words))\n",
        "f.close()"
      ],
      "metadata": {
        "colab": {
          "base_uri": "https://localhost:8080/"
        },
        "id": "s4HsUiq7Qc4k",
        "outputId": "0eab4efb-aa8e-4292-a2cf-952401801b0f"
      },
      "execution_count": null,
      "outputs": [
        {
          "output_type": "stream",
          "name": "stdout",
          "text": [
            "The number of words in the file are: 25\n"
          ]
        }
      ]
    },
    {
      "cell_type": "code",
      "source": [
        "#appending to a file\n",
        "f = open(\"/content/sample_data/notes.txt\", \"a\")\n",
        "f.write(\"\\n I am appending to this file\")\n",
        "f.close()"
      ],
      "metadata": {
        "id": "f5MnC_wgJlJa"
      },
      "execution_count": null,
      "outputs": []
    },
    {
      "cell_type": "code",
      "source": [
        "#reading numbers from a file and sum it\n",
        "try:\n",
        "\n",
        "    total = 0\n",
        "    with open('/content/sample_data/numbers.txt', 'r') as file:\n",
        "        for line in file:\n",
        "            try:\n",
        "                total += float(line.strip())\n",
        "            except ValueError:\n",
        "                print(\"Skipped non-numeric line.\")\n",
        "    print(\"Total sum:\", total)\n",
        "except FileNotFoundError:\n",
        "    print(\"Error: 'numbers.txt' not found.\")\n"
      ],
      "metadata": {
        "colab": {
          "base_uri": "https://localhost:8080/"
        },
        "id": "-6MU2f_ZKOGe",
        "outputId": "a20b9c16-6fce-4a9c-ec2d-e332d8e6302d"
      },
      "execution_count": null,
      "outputs": [
        {
          "output_type": "stream",
          "name": "stdout",
          "text": [
            "Total sum: 22.0\n"
          ]
        }
      ]
    },
    {
      "cell_type": "markdown",
      "source": [
        "Deleting a file/folder"
      ],
      "metadata": {
        "id": "R1n3LLXcTA6w"
      }
    },
    {
      "cell_type": "code",
      "source": [
        "import os\n",
        "os.remove(\"/content/sample_data/story.txt\")"
      ],
      "metadata": {
        "id": "tJlO-7KkTFpV"
      },
      "execution_count": null,
      "outputs": []
    },
    {
      "cell_type": "code",
      "source": [
        "import os\n",
        "os.rmdir(\"/content/sample_data/test\")"
      ],
      "metadata": {
        "id": "6r4n7s2STmBm"
      },
      "execution_count": null,
      "outputs": []
    },
    {
      "cell_type": "markdown",
      "source": [
        "TRY-EXCEPT HANDLING"
      ],
      "metadata": {
        "id": "WHzgjGJMUuC5"
      }
    },
    {
      "cell_type": "code",
      "source": [
        "b=5\n",
        "try:\n",
        "  print(b)\n",
        "  print(c)\n",
        "except NameError:\n",
        "  print(\"Name error exception Occured\")"
      ],
      "metadata": {
        "colab": {
          "base_uri": "https://localhost:8080/"
        },
        "id": "EladA0F1UxCt",
        "outputId": "44efb576-38a9-4375-9bd9-ead617155f0b"
      },
      "execution_count": null,
      "outputs": [
        {
          "output_type": "stream",
          "name": "stdout",
          "text": [
            "5\n",
            "Name error exception Occured\n"
          ]
        }
      ]
    }
  ]
}